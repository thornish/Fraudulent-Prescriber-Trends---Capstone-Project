{
  "nbformat": 4,
  "nbformat_minor": 0,
  "metadata": {
    "colab": {
      "name": "Fraudulent Prescriber Trends ",
      "provenance": [],
      "collapsed_sections": []
    },
    "kernelspec": {
      "name": "python3",
      "display_name": "Python 3"
    },
    "language_info": {
      "name": "python"
    }
  },
  "cells": [
    {
      "cell_type": "markdown",
      "source": [
        "# Fraudulent Prescriber - Opioid Trends\n",
        "In my current position at HealthFirst, I must work with large clinical claims datasets for various nuances and one such important factor is Opiate usage. Though I haven’t directly worked on such data yet, I have been assigned to various projects and presentations topics related to clinical Fraud, Waste and Abuse (FWA). This is a wonderful opportunity to work on something that brings more value to my role at HF. I have selected the dataset that has scope for analysis on Fraudulent Prescriber trends and hopefully vital information on opioids. I believe this will help me in applying the knowledge gained through this DA course to real time issues at hand. "
      ],
      "metadata": {
        "id": "zeh_-FITMPTH"
      }
    },
    {
      "cell_type": "code",
      "source": [
        "#Imported required libraries for the analysis\n",
        "import pandas as pd\n",
        "import numpy as np\n",
        "import matplotlib.pyplot as plot\n",
        "import seaborn as sns\n"
      ],
      "metadata": {
        "id": "2-jcc8ZHUHm2"
      },
      "execution_count": 1,
      "outputs": []
    },
    {
      "cell_type": "code",
      "source": [
        " #Data source is loaded here on Colab\n",
        "df = pd.read_csv('/content/sample_data/Medicare_Part_D_Prescribers_by_Provider_2019.csv') \n",
        "df.head()"
      ],
      "metadata": {
        "colab": {
          "base_uri": "https://localhost:8080/",
          "height": 404
        },
        "id": "i9AjK6jJte5H",
        "outputId": "7db45370-9fef-4193-c529-e65c6ddd68aa"
      },
      "execution_count": 2,
      "outputs": [
        {
          "output_type": "execute_result",
          "data": {
            "text/plain": [
              "   PRSCRBR_NPI Prscrbr_Last_Org_Name Prscrbr_First_Name Prscrbr_MI  \\\n",
              "0   1003000126             Enkeshafi            Ardalan        NaN   \n",
              "1   1003000142                Khalil             Rashid        NaN   \n",
              "2   1003000167               Escobar              Julio          E   \n",
              "3   1003000175         Reyes-Vasquez            Belinda        NaN   \n",
              "4   1003000282             Blakemore              Rosie          K   \n",
              "\n",
              "  Prscrbr_Crdntls Prscrbr_Gndr Prscrbr_Ent_Cd                 Prscrbr_St1  \\\n",
              "0            M.D.            M              I                900 Seton Dr   \n",
              "1            M.D.            M              I  4126 N Holland Sylvania Rd   \n",
              "2             DDS            M              I              5 Pine Cone Rd   \n",
              "3          D.D.S.            F              I     322 N Azusa Ave Ste 202   \n",
              "4             FNP            F              I  Tennessee Prison For Women   \n",
              "\n",
              "          Prscrbr_St2 Prscrbr_City  ... Bene_Male_Cnt  Bene_Race_Wht_Cnt  \\\n",
              "0                 NaN   Cumberland  ...          96.0              130.0   \n",
              "1           Suite 220       Toledo  ...          96.0              162.0   \n",
              "2                 NaN       Dayton  ...          21.0               48.0   \n",
              "3                 NaN    La Puente  ...           NaN                NaN   \n",
              "4  3881 Stewarts Lane    Nashville  ...           NaN                NaN   \n",
              "\n",
              "   Bene_Race_Black_Cnt  Bene_Race_Api_Cnt Bene_Race_Hspnc_Cnt  \\\n",
              "0                 73.0                NaN                 NaN   \n",
              "1                 92.0                NaN                19.0   \n",
              "2                  0.0                0.0                 NaN   \n",
              "3                  0.0                0.0                 NaN   \n",
              "4                  NaN                NaN                 NaN   \n",
              "\n",
              "  Bene_Race_Natind_Cnt Bene_Race_Othr_Cnt Bene_Dual_Cnt  Bene_Ndual_Cnt  \\\n",
              "0                  0.0                NaN          56.0           158.0   \n",
              "1                  0.0                NaN         157.0           125.0   \n",
              "2                  0.0                NaN           NaN             NaN   \n",
              "3                  0.0                0.0           NaN             NaN   \n",
              "4                  NaN                NaN           NaN             NaN   \n",
              "\n",
              "   Bene_Avg_Risk_Scre  \n",
              "0            2.708114  \n",
              "1            1.856453  \n",
              "2            1.140737  \n",
              "3            0.764182  \n",
              "4            3.156650  \n",
              "\n",
              "[5 rows x 85 columns]"
            ],
            "text/html": [
              "\n",
              "  <div id=\"df-b59490cc-738a-410e-b6d4-ac04d471293c\">\n",
              "    <div class=\"colab-df-container\">\n",
              "      <div>\n",
              "<style scoped>\n",
              "    .dataframe tbody tr th:only-of-type {\n",
              "        vertical-align: middle;\n",
              "    }\n",
              "\n",
              "    .dataframe tbody tr th {\n",
              "        vertical-align: top;\n",
              "    }\n",
              "\n",
              "    .dataframe thead th {\n",
              "        text-align: right;\n",
              "    }\n",
              "</style>\n",
              "<table border=\"1\" class=\"dataframe\">\n",
              "  <thead>\n",
              "    <tr style=\"text-align: right;\">\n",
              "      <th></th>\n",
              "      <th>PRSCRBR_NPI</th>\n",
              "      <th>Prscrbr_Last_Org_Name</th>\n",
              "      <th>Prscrbr_First_Name</th>\n",
              "      <th>Prscrbr_MI</th>\n",
              "      <th>Prscrbr_Crdntls</th>\n",
              "      <th>Prscrbr_Gndr</th>\n",
              "      <th>Prscrbr_Ent_Cd</th>\n",
              "      <th>Prscrbr_St1</th>\n",
              "      <th>Prscrbr_St2</th>\n",
              "      <th>Prscrbr_City</th>\n",
              "      <th>...</th>\n",
              "      <th>Bene_Male_Cnt</th>\n",
              "      <th>Bene_Race_Wht_Cnt</th>\n",
              "      <th>Bene_Race_Black_Cnt</th>\n",
              "      <th>Bene_Race_Api_Cnt</th>\n",
              "      <th>Bene_Race_Hspnc_Cnt</th>\n",
              "      <th>Bene_Race_Natind_Cnt</th>\n",
              "      <th>Bene_Race_Othr_Cnt</th>\n",
              "      <th>Bene_Dual_Cnt</th>\n",
              "      <th>Bene_Ndual_Cnt</th>\n",
              "      <th>Bene_Avg_Risk_Scre</th>\n",
              "    </tr>\n",
              "  </thead>\n",
              "  <tbody>\n",
              "    <tr>\n",
              "      <th>0</th>\n",
              "      <td>1003000126</td>\n",
              "      <td>Enkeshafi</td>\n",
              "      <td>Ardalan</td>\n",
              "      <td>NaN</td>\n",
              "      <td>M.D.</td>\n",
              "      <td>M</td>\n",
              "      <td>I</td>\n",
              "      <td>900 Seton Dr</td>\n",
              "      <td>NaN</td>\n",
              "      <td>Cumberland</td>\n",
              "      <td>...</td>\n",
              "      <td>96.0</td>\n",
              "      <td>130.0</td>\n",
              "      <td>73.0</td>\n",
              "      <td>NaN</td>\n",
              "      <td>NaN</td>\n",
              "      <td>0.0</td>\n",
              "      <td>NaN</td>\n",
              "      <td>56.0</td>\n",
              "      <td>158.0</td>\n",
              "      <td>2.708114</td>\n",
              "    </tr>\n",
              "    <tr>\n",
              "      <th>1</th>\n",
              "      <td>1003000142</td>\n",
              "      <td>Khalil</td>\n",
              "      <td>Rashid</td>\n",
              "      <td>NaN</td>\n",
              "      <td>M.D.</td>\n",
              "      <td>M</td>\n",
              "      <td>I</td>\n",
              "      <td>4126 N Holland Sylvania Rd</td>\n",
              "      <td>Suite 220</td>\n",
              "      <td>Toledo</td>\n",
              "      <td>...</td>\n",
              "      <td>96.0</td>\n",
              "      <td>162.0</td>\n",
              "      <td>92.0</td>\n",
              "      <td>NaN</td>\n",
              "      <td>19.0</td>\n",
              "      <td>0.0</td>\n",
              "      <td>NaN</td>\n",
              "      <td>157.0</td>\n",
              "      <td>125.0</td>\n",
              "      <td>1.856453</td>\n",
              "    </tr>\n",
              "    <tr>\n",
              "      <th>2</th>\n",
              "      <td>1003000167</td>\n",
              "      <td>Escobar</td>\n",
              "      <td>Julio</td>\n",
              "      <td>E</td>\n",
              "      <td>DDS</td>\n",
              "      <td>M</td>\n",
              "      <td>I</td>\n",
              "      <td>5 Pine Cone Rd</td>\n",
              "      <td>NaN</td>\n",
              "      <td>Dayton</td>\n",
              "      <td>...</td>\n",
              "      <td>21.0</td>\n",
              "      <td>48.0</td>\n",
              "      <td>0.0</td>\n",
              "      <td>0.0</td>\n",
              "      <td>NaN</td>\n",
              "      <td>0.0</td>\n",
              "      <td>NaN</td>\n",
              "      <td>NaN</td>\n",
              "      <td>NaN</td>\n",
              "      <td>1.140737</td>\n",
              "    </tr>\n",
              "    <tr>\n",
              "      <th>3</th>\n",
              "      <td>1003000175</td>\n",
              "      <td>Reyes-Vasquez</td>\n",
              "      <td>Belinda</td>\n",
              "      <td>NaN</td>\n",
              "      <td>D.D.S.</td>\n",
              "      <td>F</td>\n",
              "      <td>I</td>\n",
              "      <td>322 N Azusa Ave Ste 202</td>\n",
              "      <td>NaN</td>\n",
              "      <td>La Puente</td>\n",
              "      <td>...</td>\n",
              "      <td>NaN</td>\n",
              "      <td>NaN</td>\n",
              "      <td>0.0</td>\n",
              "      <td>0.0</td>\n",
              "      <td>NaN</td>\n",
              "      <td>0.0</td>\n",
              "      <td>0.0</td>\n",
              "      <td>NaN</td>\n",
              "      <td>NaN</td>\n",
              "      <td>0.764182</td>\n",
              "    </tr>\n",
              "    <tr>\n",
              "      <th>4</th>\n",
              "      <td>1003000282</td>\n",
              "      <td>Blakemore</td>\n",
              "      <td>Rosie</td>\n",
              "      <td>K</td>\n",
              "      <td>FNP</td>\n",
              "      <td>F</td>\n",
              "      <td>I</td>\n",
              "      <td>Tennessee Prison For Women</td>\n",
              "      <td>3881 Stewarts Lane</td>\n",
              "      <td>Nashville</td>\n",
              "      <td>...</td>\n",
              "      <td>NaN</td>\n",
              "      <td>NaN</td>\n",
              "      <td>NaN</td>\n",
              "      <td>NaN</td>\n",
              "      <td>NaN</td>\n",
              "      <td>NaN</td>\n",
              "      <td>NaN</td>\n",
              "      <td>NaN</td>\n",
              "      <td>NaN</td>\n",
              "      <td>3.156650</td>\n",
              "    </tr>\n",
              "  </tbody>\n",
              "</table>\n",
              "<p>5 rows × 85 columns</p>\n",
              "</div>\n",
              "      <button class=\"colab-df-convert\" onclick=\"convertToInteractive('df-b59490cc-738a-410e-b6d4-ac04d471293c')\"\n",
              "              title=\"Convert this dataframe to an interactive table.\"\n",
              "              style=\"display:none;\">\n",
              "        \n",
              "  <svg xmlns=\"http://www.w3.org/2000/svg\" height=\"24px\"viewBox=\"0 0 24 24\"\n",
              "       width=\"24px\">\n",
              "    <path d=\"M0 0h24v24H0V0z\" fill=\"none\"/>\n",
              "    <path d=\"M18.56 5.44l.94 2.06.94-2.06 2.06-.94-2.06-.94-.94-2.06-.94 2.06-2.06.94zm-11 1L8.5 8.5l.94-2.06 2.06-.94-2.06-.94L8.5 2.5l-.94 2.06-2.06.94zm10 10l.94 2.06.94-2.06 2.06-.94-2.06-.94-.94-2.06-.94 2.06-2.06.94z\"/><path d=\"M17.41 7.96l-1.37-1.37c-.4-.4-.92-.59-1.43-.59-.52 0-1.04.2-1.43.59L10.3 9.45l-7.72 7.72c-.78.78-.78 2.05 0 2.83L4 21.41c.39.39.9.59 1.41.59.51 0 1.02-.2 1.41-.59l7.78-7.78 2.81-2.81c.8-.78.8-2.07 0-2.86zM5.41 20L4 18.59l7.72-7.72 1.47 1.35L5.41 20z\"/>\n",
              "  </svg>\n",
              "      </button>\n",
              "      \n",
              "  <style>\n",
              "    .colab-df-container {\n",
              "      display:flex;\n",
              "      flex-wrap:wrap;\n",
              "      gap: 12px;\n",
              "    }\n",
              "\n",
              "    .colab-df-convert {\n",
              "      background-color: #E8F0FE;\n",
              "      border: none;\n",
              "      border-radius: 50%;\n",
              "      cursor: pointer;\n",
              "      display: none;\n",
              "      fill: #1967D2;\n",
              "      height: 32px;\n",
              "      padding: 0 0 0 0;\n",
              "      width: 32px;\n",
              "    }\n",
              "\n",
              "    .colab-df-convert:hover {\n",
              "      background-color: #E2EBFA;\n",
              "      box-shadow: 0px 1px 2px rgba(60, 64, 67, 0.3), 0px 1px 3px 1px rgba(60, 64, 67, 0.15);\n",
              "      fill: #174EA6;\n",
              "    }\n",
              "\n",
              "    [theme=dark] .colab-df-convert {\n",
              "      background-color: #3B4455;\n",
              "      fill: #D2E3FC;\n",
              "    }\n",
              "\n",
              "    [theme=dark] .colab-df-convert:hover {\n",
              "      background-color: #434B5C;\n",
              "      box-shadow: 0px 1px 3px 1px rgba(0, 0, 0, 0.15);\n",
              "      filter: drop-shadow(0px 1px 2px rgba(0, 0, 0, 0.3));\n",
              "      fill: #FFFFFF;\n",
              "    }\n",
              "  </style>\n",
              "\n",
              "      <script>\n",
              "        const buttonEl =\n",
              "          document.querySelector('#df-b59490cc-738a-410e-b6d4-ac04d471293c button.colab-df-convert');\n",
              "        buttonEl.style.display =\n",
              "          google.colab.kernel.accessAllowed ? 'block' : 'none';\n",
              "\n",
              "        async function convertToInteractive(key) {\n",
              "          const element = document.querySelector('#df-b59490cc-738a-410e-b6d4-ac04d471293c');\n",
              "          const dataTable =\n",
              "            await google.colab.kernel.invokeFunction('convertToInteractive',\n",
              "                                                     [key], {});\n",
              "          if (!dataTable) return;\n",
              "\n",
              "          const docLinkHtml = 'Like what you see? Visit the ' +\n",
              "            '<a target=\"_blank\" href=https://colab.research.google.com/notebooks/data_table.ipynb>data table notebook</a>'\n",
              "            + ' to learn more about interactive tables.';\n",
              "          element.innerHTML = '';\n",
              "          dataTable['output_type'] = 'display_data';\n",
              "          await google.colab.output.renderOutput(dataTable, element);\n",
              "          const docLink = document.createElement('div');\n",
              "          docLink.innerHTML = docLinkHtml;\n",
              "          element.appendChild(docLink);\n",
              "        }\n",
              "      </script>\n",
              "    </div>\n",
              "  </div>\n",
              "  "
            ]
          },
          "metadata": {},
          "execution_count": 2
        }
      ]
    },
    {
      "cell_type": "code",
      "source": [
        "df.columns"
      ],
      "metadata": {
        "colab": {
          "base_uri": "https://localhost:8080/"
        },
        "id": "GLC9PkbXqBbK",
        "outputId": "a8bbf55d-d467-48c5-bbe3-979df20910bc"
      },
      "execution_count": 3,
      "outputs": [
        {
          "output_type": "execute_result",
          "data": {
            "text/plain": [
              "Index(['PRSCRBR_NPI', 'Prscrbr_Last_Org_Name', 'Prscrbr_First_Name',\n",
              "       'Prscrbr_MI', 'Prscrbr_Crdntls', 'Prscrbr_Gndr', 'Prscrbr_Ent_Cd',\n",
              "       'Prscrbr_St1', 'Prscrbr_St2', 'Prscrbr_City', 'Prscrbr_State_Abrvtn',\n",
              "       'Prscrbr_State_FIPS', 'Prscrbr_zip5', 'Prscrbr_RUCA',\n",
              "       'Prscrbr_RUCA_Desc', 'Prscrbr_Cntry', 'Prscrbr_Type',\n",
              "       'Prscrbr_Type_src', 'Tot_Clms', 'Tot_30day_Fills', 'Tot_Drug_Cst',\n",
              "       'Tot_Day_Suply', 'Tot_Benes', 'GE65_Sprsn_Flag', 'GE65_Tot_Clms',\n",
              "       'GE65_Tot_30day_Fills', 'GE65_Tot_Drug_Cst', 'GE65_Tot_Day_Suply',\n",
              "       'GE65_Bene_Sprsn_Flag', 'GE65_Tot_Benes', 'Brnd_Sprsn_Flag',\n",
              "       'Brnd_Tot_Clms', 'Brnd_Tot_Drug_Cst', 'Gnrc_Sprsn_Flag',\n",
              "       'Gnrc_Tot_Clms', 'Gnrc_Tot_Drug_Cst', 'Othr_Sprsn_Flag',\n",
              "       'Othr_Tot_Clms', 'Othr_Tot_Drug_Cst', 'MAPD_Sprsn_Flag',\n",
              "       'MAPD_Tot_Clms', 'MAPD_Tot_Drug_Cst', 'PDP_Sprsn_Flag', 'PDP_Tot_Clms',\n",
              "       'PDP_Tot_Drug_Cst', 'LIS_Sprsn_Flag', 'LIS_Tot_Clms', 'LIS_Drug_Cst',\n",
              "       'NonLIS_Sprsn_Flag', 'NonLIS_Tot_Clms', 'NonLIS_Drug_Cst',\n",
              "       'Opioid_Tot_Clms', 'Opioid_Tot_Drug_Cst', 'Opioid_Tot_Suply',\n",
              "       'Opioid_Tot_Benes', 'Opioid_Prscrbr_Rate', 'Opioid_LA_Tot_Clms',\n",
              "       'Opioid_LA_Tot_Drug_Cst', 'Opioid_LA_Tot_Suply', 'Opioid_LA_Tot_Benes',\n",
              "       'Opioid_LA_Prscrbr_Rate', 'Antbtc_Tot_Clms', 'Antbtc_Tot_Drug_Cst',\n",
              "       'Antbtc_Tot_Benes', 'Antpsyct_GE65_Sprsn_Flag',\n",
              "       'Antpsyct_GE65_Tot_Clms', 'Antpsyct_GE65_Tot_Drug_Cst',\n",
              "       'Antpsyct_GE65_Bene_Suprsn_Flag', 'Antpsyct_GE65_Tot_Benes',\n",
              "       'Bene_Avg_Age', 'Bene_Age_LT_65_Cnt', 'Bene_Age_65_74_Cnt',\n",
              "       'Bene_Age_75_84_Cnt', 'Bene_Age_GT_84_Cnt', 'Bene_Feml_Cnt',\n",
              "       'Bene_Male_Cnt', 'Bene_Race_Wht_Cnt', 'Bene_Race_Black_Cnt',\n",
              "       'Bene_Race_Api_Cnt', 'Bene_Race_Hspnc_Cnt', 'Bene_Race_Natind_Cnt',\n",
              "       'Bene_Race_Othr_Cnt', 'Bene_Dual_Cnt', 'Bene_Ndual_Cnt',\n",
              "       'Bene_Avg_Risk_Scre'],\n",
              "      dtype='object')"
            ]
          },
          "metadata": {},
          "execution_count": 3
        }
      ]
    },
    {
      "cell_type": "code",
      "source": [
        "#Checking for Null values\n",
        "df.isnull().sum()"
      ],
      "metadata": {
        "id": "2oSfZsjICrmJ",
        "colab": {
          "base_uri": "https://localhost:8080/"
        },
        "outputId": "8fc7e5c5-b239-48b9-e8a0-659b3effff1b"
      },
      "execution_count": 4,
      "outputs": [
        {
          "output_type": "execute_result",
          "data": {
            "text/plain": [
              "PRSCRBR_NPI                   0\n",
              "Prscrbr_Last_Org_Name         0\n",
              "Prscrbr_First_Name            1\n",
              "Prscrbr_MI               339832\n",
              "Prscrbr_Crdntls           75275\n",
              "                          ...  \n",
              "Bene_Race_Natind_Cnt     305489\n",
              "Bene_Race_Othr_Cnt       723027\n",
              "Bene_Dual_Cnt            430390\n",
              "Bene_Ndual_Cnt           430390\n",
              "Bene_Avg_Risk_Scre            0\n",
              "Length: 85, dtype: int64"
            ]
          },
          "metadata": {},
          "execution_count": 4
        }
      ]
    },
    {
      "cell_type": "code",
      "source": [
        "#Replacing all the blanks with '0' to make it viable for analysis\n",
        "df= df.replace(np.nan, 0)"
      ],
      "metadata": {
        "id": "XsrSuZyfuczX"
      },
      "execution_count": 5,
      "outputs": []
    },
    {
      "cell_type": "code",
      "source": [
        "df.isnull().sum()"
      ],
      "metadata": {
        "colab": {
          "base_uri": "https://localhost:8080/"
        },
        "id": "sHdlaQEMuWMc",
        "outputId": "fc76b596-c04f-44c6-868f-edd75377afa1"
      },
      "execution_count": 6,
      "outputs": [
        {
          "output_type": "execute_result",
          "data": {
            "text/plain": [
              "PRSCRBR_NPI              0\n",
              "Prscrbr_Last_Org_Name    0\n",
              "Prscrbr_First_Name       0\n",
              "Prscrbr_MI               0\n",
              "Prscrbr_Crdntls          0\n",
              "                        ..\n",
              "Bene_Race_Natind_Cnt     0\n",
              "Bene_Race_Othr_Cnt       0\n",
              "Bene_Dual_Cnt            0\n",
              "Bene_Ndual_Cnt           0\n",
              "Bene_Avg_Risk_Scre       0\n",
              "Length: 85, dtype: int64"
            ]
          },
          "metadata": {},
          "execution_count": 6
        }
      ]
    },
    {
      "cell_type": "code",
      "source": [
        "#Verifying if the columns i need for my analysis are in the suitable Datatypes\n",
        "df.dtypes"
      ],
      "metadata": {
        "id": "zB_E9pJik7Jk",
        "colab": {
          "base_uri": "https://localhost:8080/"
        },
        "outputId": "8806aa31-de0d-468e-f631-d942ee762399"
      },
      "execution_count": 7,
      "outputs": [
        {
          "output_type": "execute_result",
          "data": {
            "text/plain": [
              "PRSCRBR_NPI                int64\n",
              "Prscrbr_Last_Org_Name     object\n",
              "Prscrbr_First_Name        object\n",
              "Prscrbr_MI                object\n",
              "Prscrbr_Crdntls           object\n",
              "                          ...   \n",
              "Bene_Race_Natind_Cnt     float64\n",
              "Bene_Race_Othr_Cnt       float64\n",
              "Bene_Dual_Cnt            float64\n",
              "Bene_Ndual_Cnt           float64\n",
              "Bene_Avg_Risk_Scre       float64\n",
              "Length: 85, dtype: object"
            ]
          },
          "metadata": {},
          "execution_count": 7
        }
      ]
    },
    {
      "cell_type": "code",
      "source": [
        "df.Tot_Drug_Cst.dtypes"
      ],
      "metadata": {
        "colab": {
          "base_uri": "https://localhost:8080/"
        },
        "id": "D4J_JEYzdE84",
        "outputId": "89232eeb-0a60-4d75-89b4-75baff59dcaf"
      },
      "execution_count": 26,
      "outputs": [
        {
          "output_type": "execute_result",
          "data": {
            "text/plain": [
              "dtype('float64')"
            ]
          },
          "metadata": {},
          "execution_count": 26
        }
      ]
    },
    {
      "cell_type": "code",
      "source": [
        "df.head()"
      ],
      "metadata": {
        "id": "FENEH5IzlNXd",
        "colab": {
          "base_uri": "https://localhost:8080/",
          "height": 404
        },
        "outputId": "c20a25d3-a2b3-4ad8-de24-4d594cfc2a10"
      },
      "execution_count": 8,
      "outputs": [
        {
          "output_type": "execute_result",
          "data": {
            "text/plain": [
              "   PRSCRBR_NPI Prscrbr_Last_Org_Name Prscrbr_First_Name Prscrbr_MI  \\\n",
              "0   1003000126             Enkeshafi            Ardalan          0   \n",
              "1   1003000142                Khalil             Rashid          0   \n",
              "2   1003000167               Escobar              Julio          E   \n",
              "3   1003000175         Reyes-Vasquez            Belinda          0   \n",
              "4   1003000282             Blakemore              Rosie          K   \n",
              "\n",
              "  Prscrbr_Crdntls Prscrbr_Gndr Prscrbr_Ent_Cd                 Prscrbr_St1  \\\n",
              "0            M.D.            M              I                900 Seton Dr   \n",
              "1            M.D.            M              I  4126 N Holland Sylvania Rd   \n",
              "2             DDS            M              I              5 Pine Cone Rd   \n",
              "3          D.D.S.            F              I     322 N Azusa Ave Ste 202   \n",
              "4             FNP            F              I  Tennessee Prison For Women   \n",
              "\n",
              "          Prscrbr_St2 Prscrbr_City  ... Bene_Male_Cnt  Bene_Race_Wht_Cnt  \\\n",
              "0                   0   Cumberland  ...          96.0              130.0   \n",
              "1           Suite 220       Toledo  ...          96.0              162.0   \n",
              "2                   0       Dayton  ...          21.0               48.0   \n",
              "3                   0    La Puente  ...           0.0                0.0   \n",
              "4  3881 Stewarts Lane    Nashville  ...           0.0                0.0   \n",
              "\n",
              "   Bene_Race_Black_Cnt  Bene_Race_Api_Cnt Bene_Race_Hspnc_Cnt  \\\n",
              "0                 73.0                0.0                 0.0   \n",
              "1                 92.0                0.0                19.0   \n",
              "2                  0.0                0.0                 0.0   \n",
              "3                  0.0                0.0                 0.0   \n",
              "4                  0.0                0.0                 0.0   \n",
              "\n",
              "  Bene_Race_Natind_Cnt Bene_Race_Othr_Cnt Bene_Dual_Cnt  Bene_Ndual_Cnt  \\\n",
              "0                  0.0                0.0          56.0           158.0   \n",
              "1                  0.0                0.0         157.0           125.0   \n",
              "2                  0.0                0.0           0.0             0.0   \n",
              "3                  0.0                0.0           0.0             0.0   \n",
              "4                  0.0                0.0           0.0             0.0   \n",
              "\n",
              "   Bene_Avg_Risk_Scre  \n",
              "0            2.708114  \n",
              "1            1.856453  \n",
              "2            1.140737  \n",
              "3            0.764182  \n",
              "4            3.156650  \n",
              "\n",
              "[5 rows x 85 columns]"
            ],
            "text/html": [
              "\n",
              "  <div id=\"df-f1829152-8d22-45f0-b457-4e35a6b7ef37\">\n",
              "    <div class=\"colab-df-container\">\n",
              "      <div>\n",
              "<style scoped>\n",
              "    .dataframe tbody tr th:only-of-type {\n",
              "        vertical-align: middle;\n",
              "    }\n",
              "\n",
              "    .dataframe tbody tr th {\n",
              "        vertical-align: top;\n",
              "    }\n",
              "\n",
              "    .dataframe thead th {\n",
              "        text-align: right;\n",
              "    }\n",
              "</style>\n",
              "<table border=\"1\" class=\"dataframe\">\n",
              "  <thead>\n",
              "    <tr style=\"text-align: right;\">\n",
              "      <th></th>\n",
              "      <th>PRSCRBR_NPI</th>\n",
              "      <th>Prscrbr_Last_Org_Name</th>\n",
              "      <th>Prscrbr_First_Name</th>\n",
              "      <th>Prscrbr_MI</th>\n",
              "      <th>Prscrbr_Crdntls</th>\n",
              "      <th>Prscrbr_Gndr</th>\n",
              "      <th>Prscrbr_Ent_Cd</th>\n",
              "      <th>Prscrbr_St1</th>\n",
              "      <th>Prscrbr_St2</th>\n",
              "      <th>Prscrbr_City</th>\n",
              "      <th>...</th>\n",
              "      <th>Bene_Male_Cnt</th>\n",
              "      <th>Bene_Race_Wht_Cnt</th>\n",
              "      <th>Bene_Race_Black_Cnt</th>\n",
              "      <th>Bene_Race_Api_Cnt</th>\n",
              "      <th>Bene_Race_Hspnc_Cnt</th>\n",
              "      <th>Bene_Race_Natind_Cnt</th>\n",
              "      <th>Bene_Race_Othr_Cnt</th>\n",
              "      <th>Bene_Dual_Cnt</th>\n",
              "      <th>Bene_Ndual_Cnt</th>\n",
              "      <th>Bene_Avg_Risk_Scre</th>\n",
              "    </tr>\n",
              "  </thead>\n",
              "  <tbody>\n",
              "    <tr>\n",
              "      <th>0</th>\n",
              "      <td>1003000126</td>\n",
              "      <td>Enkeshafi</td>\n",
              "      <td>Ardalan</td>\n",
              "      <td>0</td>\n",
              "      <td>M.D.</td>\n",
              "      <td>M</td>\n",
              "      <td>I</td>\n",
              "      <td>900 Seton Dr</td>\n",
              "      <td>0</td>\n",
              "      <td>Cumberland</td>\n",
              "      <td>...</td>\n",
              "      <td>96.0</td>\n",
              "      <td>130.0</td>\n",
              "      <td>73.0</td>\n",
              "      <td>0.0</td>\n",
              "      <td>0.0</td>\n",
              "      <td>0.0</td>\n",
              "      <td>0.0</td>\n",
              "      <td>56.0</td>\n",
              "      <td>158.0</td>\n",
              "      <td>2.708114</td>\n",
              "    </tr>\n",
              "    <tr>\n",
              "      <th>1</th>\n",
              "      <td>1003000142</td>\n",
              "      <td>Khalil</td>\n",
              "      <td>Rashid</td>\n",
              "      <td>0</td>\n",
              "      <td>M.D.</td>\n",
              "      <td>M</td>\n",
              "      <td>I</td>\n",
              "      <td>4126 N Holland Sylvania Rd</td>\n",
              "      <td>Suite 220</td>\n",
              "      <td>Toledo</td>\n",
              "      <td>...</td>\n",
              "      <td>96.0</td>\n",
              "      <td>162.0</td>\n",
              "      <td>92.0</td>\n",
              "      <td>0.0</td>\n",
              "      <td>19.0</td>\n",
              "      <td>0.0</td>\n",
              "      <td>0.0</td>\n",
              "      <td>157.0</td>\n",
              "      <td>125.0</td>\n",
              "      <td>1.856453</td>\n",
              "    </tr>\n",
              "    <tr>\n",
              "      <th>2</th>\n",
              "      <td>1003000167</td>\n",
              "      <td>Escobar</td>\n",
              "      <td>Julio</td>\n",
              "      <td>E</td>\n",
              "      <td>DDS</td>\n",
              "      <td>M</td>\n",
              "      <td>I</td>\n",
              "      <td>5 Pine Cone Rd</td>\n",
              "      <td>0</td>\n",
              "      <td>Dayton</td>\n",
              "      <td>...</td>\n",
              "      <td>21.0</td>\n",
              "      <td>48.0</td>\n",
              "      <td>0.0</td>\n",
              "      <td>0.0</td>\n",
              "      <td>0.0</td>\n",
              "      <td>0.0</td>\n",
              "      <td>0.0</td>\n",
              "      <td>0.0</td>\n",
              "      <td>0.0</td>\n",
              "      <td>1.140737</td>\n",
              "    </tr>\n",
              "    <tr>\n",
              "      <th>3</th>\n",
              "      <td>1003000175</td>\n",
              "      <td>Reyes-Vasquez</td>\n",
              "      <td>Belinda</td>\n",
              "      <td>0</td>\n",
              "      <td>D.D.S.</td>\n",
              "      <td>F</td>\n",
              "      <td>I</td>\n",
              "      <td>322 N Azusa Ave Ste 202</td>\n",
              "      <td>0</td>\n",
              "      <td>La Puente</td>\n",
              "      <td>...</td>\n",
              "      <td>0.0</td>\n",
              "      <td>0.0</td>\n",
              "      <td>0.0</td>\n",
              "      <td>0.0</td>\n",
              "      <td>0.0</td>\n",
              "      <td>0.0</td>\n",
              "      <td>0.0</td>\n",
              "      <td>0.0</td>\n",
              "      <td>0.0</td>\n",
              "      <td>0.764182</td>\n",
              "    </tr>\n",
              "    <tr>\n",
              "      <th>4</th>\n",
              "      <td>1003000282</td>\n",
              "      <td>Blakemore</td>\n",
              "      <td>Rosie</td>\n",
              "      <td>K</td>\n",
              "      <td>FNP</td>\n",
              "      <td>F</td>\n",
              "      <td>I</td>\n",
              "      <td>Tennessee Prison For Women</td>\n",
              "      <td>3881 Stewarts Lane</td>\n",
              "      <td>Nashville</td>\n",
              "      <td>...</td>\n",
              "      <td>0.0</td>\n",
              "      <td>0.0</td>\n",
              "      <td>0.0</td>\n",
              "      <td>0.0</td>\n",
              "      <td>0.0</td>\n",
              "      <td>0.0</td>\n",
              "      <td>0.0</td>\n",
              "      <td>0.0</td>\n",
              "      <td>0.0</td>\n",
              "      <td>3.156650</td>\n",
              "    </tr>\n",
              "  </tbody>\n",
              "</table>\n",
              "<p>5 rows × 85 columns</p>\n",
              "</div>\n",
              "      <button class=\"colab-df-convert\" onclick=\"convertToInteractive('df-f1829152-8d22-45f0-b457-4e35a6b7ef37')\"\n",
              "              title=\"Convert this dataframe to an interactive table.\"\n",
              "              style=\"display:none;\">\n",
              "        \n",
              "  <svg xmlns=\"http://www.w3.org/2000/svg\" height=\"24px\"viewBox=\"0 0 24 24\"\n",
              "       width=\"24px\">\n",
              "    <path d=\"M0 0h24v24H0V0z\" fill=\"none\"/>\n",
              "    <path d=\"M18.56 5.44l.94 2.06.94-2.06 2.06-.94-2.06-.94-.94-2.06-.94 2.06-2.06.94zm-11 1L8.5 8.5l.94-2.06 2.06-.94-2.06-.94L8.5 2.5l-.94 2.06-2.06.94zm10 10l.94 2.06.94-2.06 2.06-.94-2.06-.94-.94-2.06-.94 2.06-2.06.94z\"/><path d=\"M17.41 7.96l-1.37-1.37c-.4-.4-.92-.59-1.43-.59-.52 0-1.04.2-1.43.59L10.3 9.45l-7.72 7.72c-.78.78-.78 2.05 0 2.83L4 21.41c.39.39.9.59 1.41.59.51 0 1.02-.2 1.41-.59l7.78-7.78 2.81-2.81c.8-.78.8-2.07 0-2.86zM5.41 20L4 18.59l7.72-7.72 1.47 1.35L5.41 20z\"/>\n",
              "  </svg>\n",
              "      </button>\n",
              "      \n",
              "  <style>\n",
              "    .colab-df-container {\n",
              "      display:flex;\n",
              "      flex-wrap:wrap;\n",
              "      gap: 12px;\n",
              "    }\n",
              "\n",
              "    .colab-df-convert {\n",
              "      background-color: #E8F0FE;\n",
              "      border: none;\n",
              "      border-radius: 50%;\n",
              "      cursor: pointer;\n",
              "      display: none;\n",
              "      fill: #1967D2;\n",
              "      height: 32px;\n",
              "      padding: 0 0 0 0;\n",
              "      width: 32px;\n",
              "    }\n",
              "\n",
              "    .colab-df-convert:hover {\n",
              "      background-color: #E2EBFA;\n",
              "      box-shadow: 0px 1px 2px rgba(60, 64, 67, 0.3), 0px 1px 3px 1px rgba(60, 64, 67, 0.15);\n",
              "      fill: #174EA6;\n",
              "    }\n",
              "\n",
              "    [theme=dark] .colab-df-convert {\n",
              "      background-color: #3B4455;\n",
              "      fill: #D2E3FC;\n",
              "    }\n",
              "\n",
              "    [theme=dark] .colab-df-convert:hover {\n",
              "      background-color: #434B5C;\n",
              "      box-shadow: 0px 1px 3px 1px rgba(0, 0, 0, 0.15);\n",
              "      filter: drop-shadow(0px 1px 2px rgba(0, 0, 0, 0.3));\n",
              "      fill: #FFFFFF;\n",
              "    }\n",
              "  </style>\n",
              "\n",
              "      <script>\n",
              "        const buttonEl =\n",
              "          document.querySelector('#df-f1829152-8d22-45f0-b457-4e35a6b7ef37 button.colab-df-convert');\n",
              "        buttonEl.style.display =\n",
              "          google.colab.kernel.accessAllowed ? 'block' : 'none';\n",
              "\n",
              "        async function convertToInteractive(key) {\n",
              "          const element = document.querySelector('#df-f1829152-8d22-45f0-b457-4e35a6b7ef37');\n",
              "          const dataTable =\n",
              "            await google.colab.kernel.invokeFunction('convertToInteractive',\n",
              "                                                     [key], {});\n",
              "          if (!dataTable) return;\n",
              "\n",
              "          const docLinkHtml = 'Like what you see? Visit the ' +\n",
              "            '<a target=\"_blank\" href=https://colab.research.google.com/notebooks/data_table.ipynb>data table notebook</a>'\n",
              "            + ' to learn more about interactive tables.';\n",
              "          element.innerHTML = '';\n",
              "          dataTable['output_type'] = 'display_data';\n",
              "          await google.colab.output.renderOutput(dataTable, element);\n",
              "          const docLink = document.createElement('div');\n",
              "          docLink.innerHTML = docLinkHtml;\n",
              "          element.appendChild(docLink);\n",
              "        }\n",
              "      </script>\n",
              "    </div>\n",
              "  </div>\n",
              "  "
            ]
          },
          "metadata": {},
          "execution_count": 8
        }
      ]
    },
    {
      "cell_type": "code",
      "source": [
        "#To find the count of rows\n",
        "row_count = df.shape[0]\n",
        "row_count"
      ],
      "metadata": {
        "colab": {
          "base_uri": "https://localhost:8080/"
        },
        "id": "fWvjml0OSA5l",
        "outputId": "53d0aa0e-7e44-4ceb-9ce2-c204db4a5b60"
      },
      "execution_count": 9,
      "outputs": [
        {
          "output_type": "execute_result",
          "data": {
            "text/plain": [
              "1048575"
            ]
          },
          "metadata": {},
          "execution_count": 9
        }
      ]
    },
    {
      "cell_type": "code",
      "source": [
        "#To find the count of columns\n",
        "col_count = len(df.columns)\n",
        "col_count"
      ],
      "metadata": {
        "colab": {
          "base_uri": "https://localhost:8080/"
        },
        "id": "P01CI3fFSFX-",
        "outputId": "2b038078-ff7c-4c6f-bf13-43559459c8e7"
      },
      "execution_count": 10,
      "outputs": [
        {
          "output_type": "execute_result",
          "data": {
            "text/plain": [
              "85"
            ]
          },
          "metadata": {},
          "execution_count": 10
        }
      ]
    },
    {
      "cell_type": "code",
      "source": [
        "df.describe()"
      ],
      "metadata": {
        "colab": {
          "base_uri": "https://localhost:8080/",
          "height": 393
        },
        "id": "5FddPqZYjttp",
        "outputId": "bb62be75-73cb-461f-f670-a96aef5fe216"
      },
      "execution_count": 32,
      "outputs": [
        {
          "output_type": "execute_result",
          "data": {
            "text/plain": [
              "        PRSCRBR_NPI  Prscrbr_State_FIPS  Prscrbr_zip5  Prscrbr_RUCA  \\\n",
              "count  1.048575e+06        1.048575e+06  1.048575e+06  1.048575e+06   \n",
              "mean   1.422920e+09        2.823647e+01  4.848455e+04  1.617138e+00   \n",
              "std    2.438484e+08        1.611617e+01  3.026049e+04  3.545813e+00   \n",
              "min    1.003000e+09        0.000000e+00  0.000000e+00  0.000000e+00   \n",
              "25%    1.215083e+09        1.200000e+01  2.170200e+04  1.000000e+00   \n",
              "50%    1.427073e+09        2.800000e+01  4.522700e+04  1.000000e+00   \n",
              "75%    1.639242e+09        4.100000e+01  7.703000e+04  1.000000e+00   \n",
              "max    1.841448e+09        7.800000e+01  9.992900e+04  9.900000e+01   \n",
              "\n",
              "           Tot_Clms  Tot_30day_Fills  Tot_Drug_Cst  Tot_Day_Suply  \\\n",
              "count  1.048575e+06     1.048575e+06  1.048575e+06   1.048575e+06   \n",
              "mean   1.212991e+03     2.045665e+03  1.479969e+05   5.692834e+04   \n",
              "std    2.977383e+03     4.843011e+03  4.220762e+05   1.355257e+05   \n",
              "min    1.100000e+01     1.100000e+01  0.000000e+00   1.100000e+01   \n",
              "25%    5.500000e+01     6.500000e+01  1.606035e+03   9.730000e+02   \n",
              "50%    1.990000e+02     2.437667e+02  1.061605e+04   4.735000e+03   \n",
              "75%    9.520000e+02     1.425033e+03  1.081089e+05   3.844600e+04   \n",
              "max    4.654880e+05     4.660040e+05  3.934299e+07   5.598093e+06   \n",
              "\n",
              "          Tot_Benes  GE65_Tot_Clms  ...  Bene_Male_Cnt  Bene_Race_Wht_Cnt  \\\n",
              "count  1.048575e+06   1.048575e+06  ...   1.048575e+06       1.048575e+06   \n",
              "mean   1.469680e+02   9.483865e+02  ...   5.876166e+01       1.075922e+02   \n",
              "std    3.925465e+02   2.505004e+03  ...   1.647543e+02       3.145296e+02   \n",
              "min    0.000000e+00   0.000000e+00  ...   0.000000e+00       0.000000e+00   \n",
              "25%    2.400000e+01   1.300000e+01  ...   0.000000e+00       1.400000e+01   \n",
              "50%    7.100000e+01   1.270000e+02  ...   2.700000e+01       4.500000e+01   \n",
              "75%    1.910000e+02   6.780000e+02  ...   7.300000e+01       1.350000e+02   \n",
              "max    1.838530e+05   3.990170e+05  ...   7.751000e+04       1.486280e+05   \n",
              "\n",
              "       Bene_Race_Black_Cnt  Bene_Race_Api_Cnt  Bene_Race_Hspnc_Cnt  \\\n",
              "count         1.048575e+06       1.048575e+06         1.048575e+06   \n",
              "mean          1.440284e+01       2.956281e+00         1.288921e+01   \n",
              "std           4.413671e+01       3.197443e+01         7.095871e+01   \n",
              "min           0.000000e+00       0.000000e+00         0.000000e+00   \n",
              "25%           0.000000e+00       0.000000e+00         0.000000e+00   \n",
              "50%           0.000000e+00       0.000000e+00         0.000000e+00   \n",
              "75%           1.400000e+01       0.000000e+00         0.000000e+00   \n",
              "max           9.986000e+03       1.011400e+04         2.838500e+04   \n",
              "\n",
              "       Bene_Race_Natind_Cnt  Bene_Race_Othr_Cnt  Bene_Dual_Cnt  \\\n",
              "count          1.048575e+06        1.048575e+06   1.048575e+06   \n",
              "mean           2.947867e-01        1.343870e+00   3.795188e+01   \n",
              "std            4.664964e+00        1.250479e+01   8.585267e+01   \n",
              "min            0.000000e+00        0.000000e+00   0.000000e+00   \n",
              "25%            0.000000e+00        0.000000e+00   0.000000e+00   \n",
              "50%            0.000000e+00        0.000000e+00   1.500000e+01   \n",
              "75%            0.000000e+00        0.000000e+00   4.800000e+01   \n",
              "max            5.880000e+02        5.748000e+03   2.566000e+04   \n",
              "\n",
              "       Bene_Ndual_Cnt  Bene_Avg_Risk_Scre  \n",
              "count    1.048575e+06        1.048575e+06  \n",
              "mean     9.397232e+01        1.550696e+00  \n",
              "std      3.342755e+02        7.834602e-01  \n",
              "min      0.000000e+00        1.380000e-01  \n",
              "25%      0.000000e+00        1.081464e+00  \n",
              "50%      2.500000e+01        1.355098e+00  \n",
              "75%      1.170000e+02        1.792659e+00  \n",
              "max      1.592810e+05        2.365335e+01  \n",
              "\n",
              "[8 rows x 61 columns]"
            ],
            "text/html": [
              "\n",
              "  <div id=\"df-66cb592c-7468-4f84-9e19-0bcc42999f37\">\n",
              "    <div class=\"colab-df-container\">\n",
              "      <div>\n",
              "<style scoped>\n",
              "    .dataframe tbody tr th:only-of-type {\n",
              "        vertical-align: middle;\n",
              "    }\n",
              "\n",
              "    .dataframe tbody tr th {\n",
              "        vertical-align: top;\n",
              "    }\n",
              "\n",
              "    .dataframe thead th {\n",
              "        text-align: right;\n",
              "    }\n",
              "</style>\n",
              "<table border=\"1\" class=\"dataframe\">\n",
              "  <thead>\n",
              "    <tr style=\"text-align: right;\">\n",
              "      <th></th>\n",
              "      <th>PRSCRBR_NPI</th>\n",
              "      <th>Prscrbr_State_FIPS</th>\n",
              "      <th>Prscrbr_zip5</th>\n",
              "      <th>Prscrbr_RUCA</th>\n",
              "      <th>Tot_Clms</th>\n",
              "      <th>Tot_30day_Fills</th>\n",
              "      <th>Tot_Drug_Cst</th>\n",
              "      <th>Tot_Day_Suply</th>\n",
              "      <th>Tot_Benes</th>\n",
              "      <th>GE65_Tot_Clms</th>\n",
              "      <th>...</th>\n",
              "      <th>Bene_Male_Cnt</th>\n",
              "      <th>Bene_Race_Wht_Cnt</th>\n",
              "      <th>Bene_Race_Black_Cnt</th>\n",
              "      <th>Bene_Race_Api_Cnt</th>\n",
              "      <th>Bene_Race_Hspnc_Cnt</th>\n",
              "      <th>Bene_Race_Natind_Cnt</th>\n",
              "      <th>Bene_Race_Othr_Cnt</th>\n",
              "      <th>Bene_Dual_Cnt</th>\n",
              "      <th>Bene_Ndual_Cnt</th>\n",
              "      <th>Bene_Avg_Risk_Scre</th>\n",
              "    </tr>\n",
              "  </thead>\n",
              "  <tbody>\n",
              "    <tr>\n",
              "      <th>count</th>\n",
              "      <td>1.048575e+06</td>\n",
              "      <td>1.048575e+06</td>\n",
              "      <td>1.048575e+06</td>\n",
              "      <td>1.048575e+06</td>\n",
              "      <td>1.048575e+06</td>\n",
              "      <td>1.048575e+06</td>\n",
              "      <td>1.048575e+06</td>\n",
              "      <td>1.048575e+06</td>\n",
              "      <td>1.048575e+06</td>\n",
              "      <td>1.048575e+06</td>\n",
              "      <td>...</td>\n",
              "      <td>1.048575e+06</td>\n",
              "      <td>1.048575e+06</td>\n",
              "      <td>1.048575e+06</td>\n",
              "      <td>1.048575e+06</td>\n",
              "      <td>1.048575e+06</td>\n",
              "      <td>1.048575e+06</td>\n",
              "      <td>1.048575e+06</td>\n",
              "      <td>1.048575e+06</td>\n",
              "      <td>1.048575e+06</td>\n",
              "      <td>1.048575e+06</td>\n",
              "    </tr>\n",
              "    <tr>\n",
              "      <th>mean</th>\n",
              "      <td>1.422920e+09</td>\n",
              "      <td>2.823647e+01</td>\n",
              "      <td>4.848455e+04</td>\n",
              "      <td>1.617138e+00</td>\n",
              "      <td>1.212991e+03</td>\n",
              "      <td>2.045665e+03</td>\n",
              "      <td>1.479969e+05</td>\n",
              "      <td>5.692834e+04</td>\n",
              "      <td>1.469680e+02</td>\n",
              "      <td>9.483865e+02</td>\n",
              "      <td>...</td>\n",
              "      <td>5.876166e+01</td>\n",
              "      <td>1.075922e+02</td>\n",
              "      <td>1.440284e+01</td>\n",
              "      <td>2.956281e+00</td>\n",
              "      <td>1.288921e+01</td>\n",
              "      <td>2.947867e-01</td>\n",
              "      <td>1.343870e+00</td>\n",
              "      <td>3.795188e+01</td>\n",
              "      <td>9.397232e+01</td>\n",
              "      <td>1.550696e+00</td>\n",
              "    </tr>\n",
              "    <tr>\n",
              "      <th>std</th>\n",
              "      <td>2.438484e+08</td>\n",
              "      <td>1.611617e+01</td>\n",
              "      <td>3.026049e+04</td>\n",
              "      <td>3.545813e+00</td>\n",
              "      <td>2.977383e+03</td>\n",
              "      <td>4.843011e+03</td>\n",
              "      <td>4.220762e+05</td>\n",
              "      <td>1.355257e+05</td>\n",
              "      <td>3.925465e+02</td>\n",
              "      <td>2.505004e+03</td>\n",
              "      <td>...</td>\n",
              "      <td>1.647543e+02</td>\n",
              "      <td>3.145296e+02</td>\n",
              "      <td>4.413671e+01</td>\n",
              "      <td>3.197443e+01</td>\n",
              "      <td>7.095871e+01</td>\n",
              "      <td>4.664964e+00</td>\n",
              "      <td>1.250479e+01</td>\n",
              "      <td>8.585267e+01</td>\n",
              "      <td>3.342755e+02</td>\n",
              "      <td>7.834602e-01</td>\n",
              "    </tr>\n",
              "    <tr>\n",
              "      <th>min</th>\n",
              "      <td>1.003000e+09</td>\n",
              "      <td>0.000000e+00</td>\n",
              "      <td>0.000000e+00</td>\n",
              "      <td>0.000000e+00</td>\n",
              "      <td>1.100000e+01</td>\n",
              "      <td>1.100000e+01</td>\n",
              "      <td>0.000000e+00</td>\n",
              "      <td>1.100000e+01</td>\n",
              "      <td>0.000000e+00</td>\n",
              "      <td>0.000000e+00</td>\n",
              "      <td>...</td>\n",
              "      <td>0.000000e+00</td>\n",
              "      <td>0.000000e+00</td>\n",
              "      <td>0.000000e+00</td>\n",
              "      <td>0.000000e+00</td>\n",
              "      <td>0.000000e+00</td>\n",
              "      <td>0.000000e+00</td>\n",
              "      <td>0.000000e+00</td>\n",
              "      <td>0.000000e+00</td>\n",
              "      <td>0.000000e+00</td>\n",
              "      <td>1.380000e-01</td>\n",
              "    </tr>\n",
              "    <tr>\n",
              "      <th>25%</th>\n",
              "      <td>1.215083e+09</td>\n",
              "      <td>1.200000e+01</td>\n",
              "      <td>2.170200e+04</td>\n",
              "      <td>1.000000e+00</td>\n",
              "      <td>5.500000e+01</td>\n",
              "      <td>6.500000e+01</td>\n",
              "      <td>1.606035e+03</td>\n",
              "      <td>9.730000e+02</td>\n",
              "      <td>2.400000e+01</td>\n",
              "      <td>1.300000e+01</td>\n",
              "      <td>...</td>\n",
              "      <td>0.000000e+00</td>\n",
              "      <td>1.400000e+01</td>\n",
              "      <td>0.000000e+00</td>\n",
              "      <td>0.000000e+00</td>\n",
              "      <td>0.000000e+00</td>\n",
              "      <td>0.000000e+00</td>\n",
              "      <td>0.000000e+00</td>\n",
              "      <td>0.000000e+00</td>\n",
              "      <td>0.000000e+00</td>\n",
              "      <td>1.081464e+00</td>\n",
              "    </tr>\n",
              "    <tr>\n",
              "      <th>50%</th>\n",
              "      <td>1.427073e+09</td>\n",
              "      <td>2.800000e+01</td>\n",
              "      <td>4.522700e+04</td>\n",
              "      <td>1.000000e+00</td>\n",
              "      <td>1.990000e+02</td>\n",
              "      <td>2.437667e+02</td>\n",
              "      <td>1.061605e+04</td>\n",
              "      <td>4.735000e+03</td>\n",
              "      <td>7.100000e+01</td>\n",
              "      <td>1.270000e+02</td>\n",
              "      <td>...</td>\n",
              "      <td>2.700000e+01</td>\n",
              "      <td>4.500000e+01</td>\n",
              "      <td>0.000000e+00</td>\n",
              "      <td>0.000000e+00</td>\n",
              "      <td>0.000000e+00</td>\n",
              "      <td>0.000000e+00</td>\n",
              "      <td>0.000000e+00</td>\n",
              "      <td>1.500000e+01</td>\n",
              "      <td>2.500000e+01</td>\n",
              "      <td>1.355098e+00</td>\n",
              "    </tr>\n",
              "    <tr>\n",
              "      <th>75%</th>\n",
              "      <td>1.639242e+09</td>\n",
              "      <td>4.100000e+01</td>\n",
              "      <td>7.703000e+04</td>\n",
              "      <td>1.000000e+00</td>\n",
              "      <td>9.520000e+02</td>\n",
              "      <td>1.425033e+03</td>\n",
              "      <td>1.081089e+05</td>\n",
              "      <td>3.844600e+04</td>\n",
              "      <td>1.910000e+02</td>\n",
              "      <td>6.780000e+02</td>\n",
              "      <td>...</td>\n",
              "      <td>7.300000e+01</td>\n",
              "      <td>1.350000e+02</td>\n",
              "      <td>1.400000e+01</td>\n",
              "      <td>0.000000e+00</td>\n",
              "      <td>0.000000e+00</td>\n",
              "      <td>0.000000e+00</td>\n",
              "      <td>0.000000e+00</td>\n",
              "      <td>4.800000e+01</td>\n",
              "      <td>1.170000e+02</td>\n",
              "      <td>1.792659e+00</td>\n",
              "    </tr>\n",
              "    <tr>\n",
              "      <th>max</th>\n",
              "      <td>1.841448e+09</td>\n",
              "      <td>7.800000e+01</td>\n",
              "      <td>9.992900e+04</td>\n",
              "      <td>9.900000e+01</td>\n",
              "      <td>4.654880e+05</td>\n",
              "      <td>4.660040e+05</td>\n",
              "      <td>3.934299e+07</td>\n",
              "      <td>5.598093e+06</td>\n",
              "      <td>1.838530e+05</td>\n",
              "      <td>3.990170e+05</td>\n",
              "      <td>...</td>\n",
              "      <td>7.751000e+04</td>\n",
              "      <td>1.486280e+05</td>\n",
              "      <td>9.986000e+03</td>\n",
              "      <td>1.011400e+04</td>\n",
              "      <td>2.838500e+04</td>\n",
              "      <td>5.880000e+02</td>\n",
              "      <td>5.748000e+03</td>\n",
              "      <td>2.566000e+04</td>\n",
              "      <td>1.592810e+05</td>\n",
              "      <td>2.365335e+01</td>\n",
              "    </tr>\n",
              "  </tbody>\n",
              "</table>\n",
              "<p>8 rows × 61 columns</p>\n",
              "</div>\n",
              "      <button class=\"colab-df-convert\" onclick=\"convertToInteractive('df-66cb592c-7468-4f84-9e19-0bcc42999f37')\"\n",
              "              title=\"Convert this dataframe to an interactive table.\"\n",
              "              style=\"display:none;\">\n",
              "        \n",
              "  <svg xmlns=\"http://www.w3.org/2000/svg\" height=\"24px\"viewBox=\"0 0 24 24\"\n",
              "       width=\"24px\">\n",
              "    <path d=\"M0 0h24v24H0V0z\" fill=\"none\"/>\n",
              "    <path d=\"M18.56 5.44l.94 2.06.94-2.06 2.06-.94-2.06-.94-.94-2.06-.94 2.06-2.06.94zm-11 1L8.5 8.5l.94-2.06 2.06-.94-2.06-.94L8.5 2.5l-.94 2.06-2.06.94zm10 10l.94 2.06.94-2.06 2.06-.94-2.06-.94-.94-2.06-.94 2.06-2.06.94z\"/><path d=\"M17.41 7.96l-1.37-1.37c-.4-.4-.92-.59-1.43-.59-.52 0-1.04.2-1.43.59L10.3 9.45l-7.72 7.72c-.78.78-.78 2.05 0 2.83L4 21.41c.39.39.9.59 1.41.59.51 0 1.02-.2 1.41-.59l7.78-7.78 2.81-2.81c.8-.78.8-2.07 0-2.86zM5.41 20L4 18.59l7.72-7.72 1.47 1.35L5.41 20z\"/>\n",
              "  </svg>\n",
              "      </button>\n",
              "      \n",
              "  <style>\n",
              "    .colab-df-container {\n",
              "      display:flex;\n",
              "      flex-wrap:wrap;\n",
              "      gap: 12px;\n",
              "    }\n",
              "\n",
              "    .colab-df-convert {\n",
              "      background-color: #E8F0FE;\n",
              "      border: none;\n",
              "      border-radius: 50%;\n",
              "      cursor: pointer;\n",
              "      display: none;\n",
              "      fill: #1967D2;\n",
              "      height: 32px;\n",
              "      padding: 0 0 0 0;\n",
              "      width: 32px;\n",
              "    }\n",
              "\n",
              "    .colab-df-convert:hover {\n",
              "      background-color: #E2EBFA;\n",
              "      box-shadow: 0px 1px 2px rgba(60, 64, 67, 0.3), 0px 1px 3px 1px rgba(60, 64, 67, 0.15);\n",
              "      fill: #174EA6;\n",
              "    }\n",
              "\n",
              "    [theme=dark] .colab-df-convert {\n",
              "      background-color: #3B4455;\n",
              "      fill: #D2E3FC;\n",
              "    }\n",
              "\n",
              "    [theme=dark] .colab-df-convert:hover {\n",
              "      background-color: #434B5C;\n",
              "      box-shadow: 0px 1px 3px 1px rgba(0, 0, 0, 0.15);\n",
              "      filter: drop-shadow(0px 1px 2px rgba(0, 0, 0, 0.3));\n",
              "      fill: #FFFFFF;\n",
              "    }\n",
              "  </style>\n",
              "\n",
              "      <script>\n",
              "        const buttonEl =\n",
              "          document.querySelector('#df-66cb592c-7468-4f84-9e19-0bcc42999f37 button.colab-df-convert');\n",
              "        buttonEl.style.display =\n",
              "          google.colab.kernel.accessAllowed ? 'block' : 'none';\n",
              "\n",
              "        async function convertToInteractive(key) {\n",
              "          const element = document.querySelector('#df-66cb592c-7468-4f84-9e19-0bcc42999f37');\n",
              "          const dataTable =\n",
              "            await google.colab.kernel.invokeFunction('convertToInteractive',\n",
              "                                                     [key], {});\n",
              "          if (!dataTable) return;\n",
              "\n",
              "          const docLinkHtml = 'Like what you see? Visit the ' +\n",
              "            '<a target=\"_blank\" href=https://colab.research.google.com/notebooks/data_table.ipynb>data table notebook</a>'\n",
              "            + ' to learn more about interactive tables.';\n",
              "          element.innerHTML = '';\n",
              "          dataTable['output_type'] = 'display_data';\n",
              "          await google.colab.output.renderOutput(dataTable, element);\n",
              "          const docLink = document.createElement('div');\n",
              "          docLink.innerHTML = docLinkHtml;\n",
              "          element.appendChild(docLink);\n",
              "        }\n",
              "      </script>\n",
              "    </div>\n",
              "  </div>\n",
              "  "
            ]
          },
          "metadata": {},
          "execution_count": 32
        }
      ]
    },
    {
      "cell_type": "code",
      "source": [
        "#Which Gender Providers are prescribing more Opioids? \n",
        "plot.figure(figsize= (30,8))\n",
        "df.groupby(['Prscrbr_Gndr'])['Opioid_Tot_Clms'].sum().sort_values(ascending= False).plot(kind = \"bar\")\n",
        "\n",
        "#Looks like with the data available, Male prescribers tend to prescribe higher rate of opioids"
      ],
      "metadata": {
        "colab": {
          "base_uri": "https://localhost:8080/",
          "height": 361
        },
        "id": "sWCN_l0-LXNq",
        "outputId": "941462e1-0836-4a40-fa60-03e40069fbcb"
      },
      "execution_count": 11,
      "outputs": [
        {
          "output_type": "execute_result",
          "data": {
            "text/plain": [
              "<matplotlib.axes._subplots.AxesSubplot at 0x7f7a600bbe10>"
            ]
          },
          "metadata": {},
          "execution_count": 11
        },
        {
          "output_type": "display_data",
          "data": {
            "text/plain": [
              "<Figure size 2160x576 with 1 Axes>"
            ],
            "image/png": "[encoded data removed]"
          },
          "metadata": {
            "needs_background": "light"
          }
        }
      ]
    },
    {
      "cell_type": "code",
      "source": [
        "#Finding the percentage of opioid claims out of the total claims. \n",
        "print(float(df['Opioid_Tot_Clms'].sum())*100/(df['Tot_Clms'].sum()),\"%\")\n"
      ],
      "metadata": {
        "colab": {
          "base_uri": "https://localhost:8080/"
        },
        "id": "rBguPICqp3Xh",
        "outputId": "ae0152c6-02f5-474a-e09a-716bf1b93d19"
      },
      "execution_count": 12,
      "outputs": [
        {
          "output_type": "stream",
          "name": "stdout",
          "text": [
            "4.320284480255289 %\n"
          ]
        }
      ]
    },
    {
      "cell_type": "markdown",
      "source": [
        "From the above, we know that the percentage of opioid claims to total claims is 4.3 which is major given the fact that there are other types of claims as well besides to oipiods."
      ],
      "metadata": {
        "id": "v6nIWYwkV0Dn"
      }
    },
    {
      "cell_type": "code",
      "source": [
        "#Plot between Total opioid claims and Total claims\n",
        "N = df['Opioid_Tot_Clms'].shape[0]\n",
        "x = df['Tot_Clms']\n",
        "y = df['Opioid_Tot_Clms']\n",
        "colors = (192/255,192/255,192/255)\n",
        "\n",
        "# Plot\n",
        "plot.scatter(x, y, c=np.array([colors]), alpha=0.5)\n",
        "\n",
        "#With x and y as arrays of x and y-values and deg as 1 to calculate the slope and y-intercept of the line of best fit\n",
        "m, b = np.polyfit(x, y, 1) #m = slope, b = intercept\n",
        "plot.plot(x, m*x + b, '-') #linestyle='-'\n",
        "\n",
        "plot.title('Opioid Claims vs Total Claims')\n",
        "plot.xlabel('Total Claims')\n",
        "plot.ylabel('Opioid Claims')\n",
        "plot.show()"
      ],
      "metadata": {
        "colab": {
          "base_uri": "https://localhost:8080/",
          "height": 295
        },
        "id": "QojoyPFMqhTx",
        "outputId": "c09bf46a-8b81-4818-9891-f91631f15c54"
      },
      "execution_count": 13,
      "outputs": [
        {
          "output_type": "display_data",
          "data": {
            "text/plain": [
              "<Figure size 432x288 with 1 Axes>"
            ],
            "image/png": "[encoded data removed]"
          },
          "metadata": {
            "needs_background": "light"
          }
        }
      ]
    },
    {
      "cell_type": "markdown",
      "source": [
        "From the above scatter plot it is evident that there are more Opioid claims around 100,000 of Total claims. This shows the ratio of Opiod claims to the Total Claims. Since i wanted a better visual at the data displayed I recreated the same in the tableau dashboard as well. "
      ],
      "metadata": {
        "id": "6Y1nrVHx-XXA"
      }
    },
    {
      "cell_type": "code",
      "source": [
        "#Which Prescriber Specialty/type have higher Opioid Claims? (Visualization is presented in the dhashboard for the same) \n",
        "df.groupby(['Prscrbr_Type'])['Opioid_Tot_Clms'].sum().sort_values(ascending= False)"
      ],
      "metadata": {
        "colab": {
          "base_uri": "https://localhost:8080/"
        },
        "id": "tK6HHgJAsDTi",
        "outputId": "e32dde4d-f94c-4d99-adfe-029e17d3c0f4"
      },
      "execution_count": 14,
      "outputs": [
        {
          "output_type": "execute_result",
          "data": {
            "text/plain": [
              "Prscrbr_Type\n",
              "Family Practice                          12554693.0\n",
              "Internal Medicine                        10039665.0\n",
              "Nurse Practitioner                        7594107.0\n",
              "Physician Assistant                       4642809.0\n",
              "Physical Medicine and Rehabilitation      2424224.0\n",
              "                                            ...    \n",
              "Other Medical Supply Company                    0.0\n",
              "Other Clinic/Center                             0.0\n",
              "Exclusive Provider Organization                 0.0\n",
              "Orthotist                                       0.0\n",
              "Voluntary Health or Charitable Agency           0.0\n",
              "Name: Opioid_Tot_Clms, Length: 208, dtype: float64"
            ]
          },
          "metadata": {},
          "execution_count": 14
        }
      ]
    },
    {
      "cell_type": "code",
      "source": [
        "#Import required modules\n",
        "from sklearn.cluster import KMeans\n",
        "from yellowbrick.cluster import KElbowVisualizer\n",
        "\n",
        "cols=[\n",
        "'Tot_Clms',\n",
        "'Tot_Drug_Cst',\n",
        "'Tot_Benes',\n",
        "'Brnd_Tot_Clms',\n",
        "'Gnrc_Tot_Clms',\n",
        "'LIS_Tot_Clms', \n",
        "'Opioid_Tot_Clms', \n",
        "'Opioid_LA_Tot_Clms',\n",
        "'Antbtc_Tot_Clms',\n",
        "'Antpsyct_GE65_Tot_Clms',\n",
        "'Bene_Avg_Risk_Scre'\n",
        "]\n",
        "\n",
        "#Considering providers having >10 beneficiaries to \n",
        "df_big_prov=df[df.Tot_Benes.isna()==False]\n",
        "\n",
        "#fill 7 for fields where <10.. not populated due to privacy\n",
        "X_df=df_big_prov[cols].fillna(7)\n",
        "\n",
        "X=X_df.values"
      ],
      "metadata": {
        "id": "rsEGAk3RpoUW"
      },
      "execution_count": 28,
      "outputs": []
    },
    {
      "cell_type": "markdown",
      "source": [
        "What is the statistical behaviour of different Prescriber types/specialties and can they be grouped? according to the different types of claims and counts of patients? So I first tried to understand how many clusters can the Prescriber types be grouped into? By applying The Elbow method, The suitable K value was found to be 5."
      ],
      "metadata": {
        "id": "jkxMrWsdAm8A"
      }
    },
    {
      "cell_type": "code",
      "source": [
        "#Initializing the centroid\n",
        "visualizer = KElbowVisualizer(KMeans(init='k-means++'), k=(3,11))\n",
        "visualizer.fit(X)   # Fit the data to the visualizer\n",
        "visualizer.show()"
      ],
      "metadata": {
        "colab": {
          "base_uri": "https://localhost:8080/",
          "height": 393
        },
        "id": "e1iZUbTIrNLA",
        "outputId": "6da213df-b546-4bd4-be25-5eeee8198a52"
      },
      "execution_count": 29,
      "outputs": [
        {
          "output_type": "display_data",
          "data": {
            "text/plain": [
              "<Figure size 576x396 with 2 Axes>"
            ],
            "image/png": "[encoded data removed]"
          },
          "metadata": {}
        },
        {
          "output_type": "execute_result",
          "data": {
            "text/plain": [
              "<matplotlib.axes._subplots.AxesSubplot at 0x7f7a4d6f8cd0>"
            ]
          },
          "metadata": {},
          "execution_count": 29
        }
      ]
    },
    {
      "cell_type": "code",
      "source": [
        "#The point at which the elbow shape is created is 5 and our K value i.e, optimal number of clusters is 5.\n",
        "#Now let’s train the model on the dataset with a no of clusters = 5.\n",
        "kmeans = KMeans(n_clusters=5, init='k-means++').fit(X)\n",
        "#kmeans.predict(X)\n",
        "df_c=pd.DataFrame(kmeans.cluster_centers_,columns=cols)"
      ],
      "metadata": {
        "id": "FqUnc0rRsKq0"
      },
      "execution_count": 30,
      "outputs": []
    },
    {
      "cell_type": "code",
      "source": [
        "print(df_c)\n",
        "\n",
        "#To study whClustered data with higher counts of Different types of claims and their respective Costs. \n",
        "#I built a visualization in tableau based on these clusters data."
      ],
      "metadata": {
        "colab": {
          "base_uri": "https://localhost:8080/"
        },
        "id": "MfXxKNKZUate",
        "outputId": "79d221ba-3dec-4a83-851d-04aa7c1328fe"
      },
      "execution_count": 31,
      "outputs": [
        {
          "output_type": "stream",
          "name": "stdout",
          "text": [
            "       Tot_Clms  Tot_Drug_Cst    Tot_Benes  Brnd_Tot_Clms  Gnrc_Tot_Clms  \\\n",
            "0   4652.524523  4.762024e+05   397.129778     696.329628    3863.368382   \n",
            "1  14689.828025  7.317127e+06  2335.343949    5507.998726    8697.456051   \n",
            "2   7818.931492  1.325935e+06   518.195812    1406.865782    6229.716223   \n",
            "3    440.375346  3.283227e+04    94.040623      47.444324     372.714146   \n",
            "4   7862.094042  3.109400e+06   551.705236    1822.235330    5741.808908   \n",
            "\n",
            "   LIS_Tot_Clms  Opioid_Tot_Clms  Opioid_LA_Tot_Clms  Antbtc_Tot_Clms  \\\n",
            "0   1807.942241       176.578379           22.143284       120.300764   \n",
            "1   9645.811465       347.266242           37.575796       232.113376   \n",
            "2   3863.228042       286.598598           33.358243       183.147254   \n",
            "3    171.657873        25.040363            2.139234        32.807158   \n",
            "4   4982.269485       264.241800           33.951249       168.852242   \n",
            "\n",
            "   Antpsyct_GE65_Tot_Clms  Bene_Avg_Risk_Scre  \n",
            "0               32.489015            1.556043  \n",
            "1              142.857325            2.050912  \n",
            "2               73.119996            1.735382  \n",
            "3                2.815839            1.539937  \n",
            "4               83.225700            1.981458  \n"
          ]
        }
      ]
    },
    {
      "cell_type": "code",
      "source": [
        "#Further Visualizatio has been carried out in Tableau. Downloading and saving the file to CSV. I used the same file in Tableau to build \n",
        "#other visualizations\n",
        "df_big_prov.to_csv('clusters.csv')"
      ],
      "metadata": {
        "id": "mArpf3xMssOL"
      },
      "execution_count": null,
      "outputs": []
    },
    {
      "cell_type": "markdown",
      "source": [
        "# Preliminary Analysis: \n",
        "I have used python to pre process the data set that i am using. I cleaned it to remove any nulls and checked for datatypes as well. I have chosen the columns that are vital for my analysis. I researched the ratios, grouped data using clusters. I downloaded this cleaned dataset and used in Tableau for my further analysis.  "
      ],
      "metadata": {
        "id": "axM_igRW4F78"
      }
    },
    {
      "cell_type": "code",
      "source": [
        ""
      ],
      "metadata": {
        "id": "RyONOWrT4MQn"
      },
      "execution_count": null,
      "outputs": []
    }
  ]
}